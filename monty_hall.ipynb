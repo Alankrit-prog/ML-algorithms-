{
  "nbformat": 4,
  "nbformat_minor": 0,
  "metadata": {
    "colab": {
      "name": "monty_hall.ipynb",
      "provenance": [],
      "collapsed_sections": [],
      "authorship_tag": "ABX9TyOY2M+NGWSKC1ypyeSpEju7",
      "include_colab_link": true
    },
    "kernelspec": {
      "name": "python3",
      "display_name": "Python 3"
    },
    "language_info": {
      "name": "python"
    }
  },
  "cells": [
    {
      "cell_type": "markdown",
      "metadata": {
        "id": "view-in-github",
        "colab_type": "text"
      },
      "source": [
        "<a href=\"https://colab.research.google.com/github/Alankrit-prog/ML-algorithms-/blob/main/monty_hall.ipynb\" target=\"_parent\"><img src=\"https://colab.research.google.com/assets/colab-badge.svg\" alt=\"Open In Colab\"/></a>"
      ]
    },
    {
      "cell_type": "code",
      "execution_count": null,
      "metadata": {
        "colab": {
          "base_uri": "https://localhost:8080/"
        },
        "id": "6wCiKxfrUSud",
        "outputId": "3728d744-6394-4219-96ba-19ca1c349356"
      },
      "outputs": [
        {
          "output_type": "stream",
          "name": "stdout",
          "text": [
            "Requirement already satisfied: pomegranate in /usr/local/lib/python3.7/dist-packages (0.14.8)\n",
            "Requirement already satisfied: joblib>=0.9.0b4 in /usr/local/lib/python3.7/dist-packages (from pomegranate) (1.1.0)\n",
            "Requirement already satisfied: scipy>=0.17.0 in /usr/local/lib/python3.7/dist-packages (from pomegranate) (1.4.1)\n",
            "Requirement already satisfied: numpy>=1.20.0 in /usr/local/lib/python3.7/dist-packages (from pomegranate) (1.21.5)\n",
            "Requirement already satisfied: networkx>=2.4 in /usr/local/lib/python3.7/dist-packages (from pomegranate) (2.6.3)\n",
            "Requirement already satisfied: pyyaml in /usr/local/lib/python3.7/dist-packages (from pomegranate) (3.13)\n"
          ]
        }
        
      ],
      "source": [
        "pip install pomegranate"
      ]
    },
    {
      "cell_type": "code",
      "source": [
        "import numpy as np\n",
        "from pomegranate import *\n",
        "\n",
        "guest =DiscreteDistribution({ 'A': 1/3, 'B': 1/3, 'C': 1/3 })\n",
        "prize =DiscreteDistribution({ 'A': 1/3, 'B': 1/3, 'C': 1/3 })\n",
        "\n",
        "monty = ConditionalProbabilityTable(\n",
        "    \t[['A', 'A', 'A', 0.0],\n",
        "     \t['A', 'A', 'B', 0.5],\n",
        "     \t['A', 'A', 'C', 0.5],\n",
        "     \t['A', 'B', 'A', 0.0],\n",
        "     \t['A', 'B', 'B', 0.0],\n",
        "     \t['A', 'B', 'C', 1.0],\n",
        "     \t['A', 'C', 'A', 0.0],\n",
        "     \t['A', 'C', 'B', 1.0],\n",
        "     \t['A', 'C', 'C', 0.0],\n",
        "     \t['B', 'A', 'A', 0.0],\n",
        "     \t['B', 'A', 'B', 0.0],\n",
        "     \t['B', 'A', 'C', 1.0],\n",
        "     \t['B', 'B', 'A', 0.5],\n",
        "     \t['B', 'B', 'B', 0.0],\n",
        "     \t['B', 'B', 'C', 0.5],\n",
        "     \t['B', 'C', 'A', 1.0],\n",
        "     \t['B', 'C', 'B', 0.0],\n",
        "     \t['B', 'C', 'C', 0.0],\n",
        "     \t['C', 'A', 'A', 0.0],\n",
        "     \t['C', 'A', 'B', 1.0],\n",
        "     \t['C', 'A', 'C', 0.0],\n",
        "     \t['C', 'B', 'A', 1.0],\n",
        "     \t['C', 'B', 'B', 0.0],\n",
        "     \t['C', 'B', 'C', 0.0],\n",
        "     \t['C', 'C', 'A', 0.5],\n",
        "     \t['C', 'C', 'B', 0.5],\n",
        "     \t['C', 'C', 'C', 0.0]], [guest, prize])\n",
        "\n",
        "s1 = Node(guest, name=\"guest\")\n",
        "s2 = Node(prize, name=\"prize\")\n",
        "s3 = Node(monty, name=\"monty\")\n",
        "\n",
        "model = BayesianNetwork(\"Monty Hall\")\n",
        "model.add_states(s1, s2, s3)\n",
        "model.add_edge(s1, s3)\n",
        "model.add_edge(s2, s3)\n",
        "model.bake()\n",
        "\n",
        "beliefs = model.predict_proba({ 'guest' : 'A' })\n",
        "for i,b in enumerate(beliefs):\n",
        "\tprint(model.states[i].name)\n",
        "\tprint(b.parameters) if hasattr(b, 'parameters') else print(b)\n",
        "\tprint(\"\")\n",
        "\n",
        "beliefs = model.predict_proba({ 'guest' : 'A', 'monty' : 'B' })\n",
        "for i,b in enumerate(beliefs):\n",
        "\tprint(model.states[i].name)\n",
        "\tprint(b.parameters) if hasattr(b, 'parameters') else print(b)\n",
        "\tprint(\"\")"
      ],
      "metadata": {
        "colab": {
          "base_uri": "https://localhost:8080/"
        },
        "id": "NMCG17EjUZvJ",
        "outputId": "5821db64-a489-4d7f-f30b-d98c22c8f5f2"
      },
      "execution_count": null,
      "outputs": [
        {
          "output_type": "stream",
          "name": "stdout",
          "text": [
            "guest\n",
            "A\n",
            "\n",
            "prize\n",
            "[{'A': 0.3333333333333333, 'B': 0.3333333333333333, 'C': 0.3333333333333333}]\n",
            "\n",
            "monty\n",
            "[{'C': 0.49999999999999994, 'B': 0.49999999999999994, 'A': 0.0}]\n",
            "\n",
            "guest\n",
            "A\n",
            "\n",
            "prize\n",
            "[{'A': 0.3333333333333334, 'B': 0.0, 'C': 0.6666666666666664}]\n",
            "\n",
            "monty\n",
            "B\n",
            "\n"
          ]
        }
      ]
    }
  ]
}
